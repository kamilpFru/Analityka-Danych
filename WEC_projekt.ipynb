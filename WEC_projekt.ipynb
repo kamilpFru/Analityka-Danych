{
  "cells": [
    {
      "cell_type": "code",
      "execution_count": 32,
      "metadata": {
        "id": "Hd3CVpBcNIRS"
      },
      "outputs": [],
      "source": [
        "import pandas as pd\n",
        "import numpy as np\n",
        "import seaborn as sb\n",
        "import matplotlib.pyplot as plt\n",
        "from scipy import stats\n",
        "from sklearn import metrics"
      ]
    },
    {
      "cell_type": "code",
      "execution_count": 33,
      "metadata": {
        "colab": {
          "base_uri": "https://localhost:8080/",
          "height": 300
        },
        "id": "F3mcunfaOXZp",
        "outputId": "22caa961-915b-4fe0-e16f-90c4216aa45a"
      },
      "outputs": [
        {
          "output_type": "execute_result",
          "data": {
            "text/plain": [
              "   427.0737  155.1636  476.0661  5.7677   255.523  410.5835  516.3158  \\\n",
              "0  427.4820  147.4593  474.9960  9.5407  258.2593  404.2589  524.3422   \n",
              "1  423.7709  155.9451  470.8182  4.0438  253.8868  390.2231  509.0224   \n",
              "2  431.8288  146.6720  466.1145  7.0164  261.3787  408.9941  521.9852   \n",
              "3  437.7897  141.3579  474.3819  4.3434  256.5644  393.0113  516.1617   \n",
              "4  450.8980  144.7559  475.3267  2.5512  241.1346  400.2228  510.2312   \n",
              "\n",
              "   47.4719  75.7125  463.0522  ...  100328.8932  79696.1132  90093.0925  \\\n",
              "0  44.4009  70.4385  468.8828  ...   98879.6861  82893.9171  89158.6518   \n",
              "1  50.7996  72.8076  463.4203  ...  100504.0370  81572.7820  89932.3496   \n",
              "2  44.0360  77.5854  450.5736  ...   99857.6062  82267.0302  88657.7954   \n",
              "3  52.4880  66.1179  457.0365  ...   99953.9882  80579.2854  88819.3409   \n",
              "4  54.6467  78.7078  466.5793  ...  101316.4648  77925.4484  87779.9566   \n",
              "\n",
              "   79395.6995  100893.8537  91116.6415    98560.67   99789.2341  78199.7899  \\\n",
              "0  80356.5067  100927.1007  89760.5631  97828.2206   99214.7876  79108.3094   \n",
              "1  80588.3130  100977.1693  90274.1347  97757.2251   99333.6857  79691.2458   \n",
              "2  79139.2437  100480.0554  91102.1702  98224.0435  100672.3076  78387.9296   \n",
              "3  80145.6969  100693.3759  89663.6079  97947.9575  100924.1871  80104.7240   \n",
              "4  81388.1816  100582.6873  91470.9832  97741.0470  100097.4638  79993.7164   \n",
              "\n",
              "   1480707.346  \n",
              "0  1479133.940  \n",
              "1  1475814.243  \n",
              "2  1484052.684  \n",
              "3  1479350.362  \n",
              "4  1480235.758  \n",
              "\n",
              "[5 rows x 49 columns]"
            ],
            "text/html": [
              "\n",
              "  <div id=\"df-625e2b64-3722-43eb-a5b5-9dece34a1731\">\n",
              "    <div class=\"colab-df-container\">\n",
              "      <div>\n",
              "<style scoped>\n",
              "    .dataframe tbody tr th:only-of-type {\n",
              "        vertical-align: middle;\n",
              "    }\n",
              "\n",
              "    .dataframe tbody tr th {\n",
              "        vertical-align: top;\n",
              "    }\n",
              "\n",
              "    .dataframe thead th {\n",
              "        text-align: right;\n",
              "    }\n",
              "</style>\n",
              "<table border=\"1\" class=\"dataframe\">\n",
              "  <thead>\n",
              "    <tr style=\"text-align: right;\">\n",
              "      <th></th>\n",
              "      <th>427.0737</th>\n",
              "      <th>155.1636</th>\n",
              "      <th>476.0661</th>\n",
              "      <th>5.7677</th>\n",
              "      <th>255.523</th>\n",
              "      <th>410.5835</th>\n",
              "      <th>516.3158</th>\n",
              "      <th>47.4719</th>\n",
              "      <th>75.7125</th>\n",
              "      <th>463.0522</th>\n",
              "      <th>...</th>\n",
              "      <th>100328.8932</th>\n",
              "      <th>79696.1132</th>\n",
              "      <th>90093.0925</th>\n",
              "      <th>79395.6995</th>\n",
              "      <th>100893.8537</th>\n",
              "      <th>91116.6415</th>\n",
              "      <th>98560.67</th>\n",
              "      <th>99789.2341</th>\n",
              "      <th>78199.7899</th>\n",
              "      <th>1480707.346</th>\n",
              "    </tr>\n",
              "  </thead>\n",
              "  <tbody>\n",
              "    <tr>\n",
              "      <th>0</th>\n",
              "      <td>427.4820</td>\n",
              "      <td>147.4593</td>\n",
              "      <td>474.9960</td>\n",
              "      <td>9.5407</td>\n",
              "      <td>258.2593</td>\n",
              "      <td>404.2589</td>\n",
              "      <td>524.3422</td>\n",
              "      <td>44.4009</td>\n",
              "      <td>70.4385</td>\n",
              "      <td>468.8828</td>\n",
              "      <td>...</td>\n",
              "      <td>98879.6861</td>\n",
              "      <td>82893.9171</td>\n",
              "      <td>89158.6518</td>\n",
              "      <td>80356.5067</td>\n",
              "      <td>100927.1007</td>\n",
              "      <td>89760.5631</td>\n",
              "      <td>97828.2206</td>\n",
              "      <td>99214.7876</td>\n",
              "      <td>79108.3094</td>\n",
              "      <td>1479133.940</td>\n",
              "    </tr>\n",
              "    <tr>\n",
              "      <th>1</th>\n",
              "      <td>423.7709</td>\n",
              "      <td>155.9451</td>\n",
              "      <td>470.8182</td>\n",
              "      <td>4.0438</td>\n",
              "      <td>253.8868</td>\n",
              "      <td>390.2231</td>\n",
              "      <td>509.0224</td>\n",
              "      <td>50.7996</td>\n",
              "      <td>72.8076</td>\n",
              "      <td>463.4203</td>\n",
              "      <td>...</td>\n",
              "      <td>100504.0370</td>\n",
              "      <td>81572.7820</td>\n",
              "      <td>89932.3496</td>\n",
              "      <td>80588.3130</td>\n",
              "      <td>100977.1693</td>\n",
              "      <td>90274.1347</td>\n",
              "      <td>97757.2251</td>\n",
              "      <td>99333.6857</td>\n",
              "      <td>79691.2458</td>\n",
              "      <td>1475814.243</td>\n",
              "    </tr>\n",
              "    <tr>\n",
              "      <th>2</th>\n",
              "      <td>431.8288</td>\n",
              "      <td>146.6720</td>\n",
              "      <td>466.1145</td>\n",
              "      <td>7.0164</td>\n",
              "      <td>261.3787</td>\n",
              "      <td>408.9941</td>\n",
              "      <td>521.9852</td>\n",
              "      <td>44.0360</td>\n",
              "      <td>77.5854</td>\n",
              "      <td>450.5736</td>\n",
              "      <td>...</td>\n",
              "      <td>99857.6062</td>\n",
              "      <td>82267.0302</td>\n",
              "      <td>88657.7954</td>\n",
              "      <td>79139.2437</td>\n",
              "      <td>100480.0554</td>\n",
              "      <td>91102.1702</td>\n",
              "      <td>98224.0435</td>\n",
              "      <td>100672.3076</td>\n",
              "      <td>78387.9296</td>\n",
              "      <td>1484052.684</td>\n",
              "    </tr>\n",
              "    <tr>\n",
              "      <th>3</th>\n",
              "      <td>437.7897</td>\n",
              "      <td>141.3579</td>\n",
              "      <td>474.3819</td>\n",
              "      <td>4.3434</td>\n",
              "      <td>256.5644</td>\n",
              "      <td>393.0113</td>\n",
              "      <td>516.1617</td>\n",
              "      <td>52.4880</td>\n",
              "      <td>66.1179</td>\n",
              "      <td>457.0365</td>\n",
              "      <td>...</td>\n",
              "      <td>99953.9882</td>\n",
              "      <td>80579.2854</td>\n",
              "      <td>88819.3409</td>\n",
              "      <td>80145.6969</td>\n",
              "      <td>100693.3759</td>\n",
              "      <td>89663.6079</td>\n",
              "      <td>97947.9575</td>\n",
              "      <td>100924.1871</td>\n",
              "      <td>80104.7240</td>\n",
              "      <td>1479350.362</td>\n",
              "    </tr>\n",
              "    <tr>\n",
              "      <th>4</th>\n",
              "      <td>450.8980</td>\n",
              "      <td>144.7559</td>\n",
              "      <td>475.3267</td>\n",
              "      <td>2.5512</td>\n",
              "      <td>241.1346</td>\n",
              "      <td>400.2228</td>\n",
              "      <td>510.2312</td>\n",
              "      <td>54.6467</td>\n",
              "      <td>78.7078</td>\n",
              "      <td>466.5793</td>\n",
              "      <td>...</td>\n",
              "      <td>101316.4648</td>\n",
              "      <td>77925.4484</td>\n",
              "      <td>87779.9566</td>\n",
              "      <td>81388.1816</td>\n",
              "      <td>100582.6873</td>\n",
              "      <td>91470.9832</td>\n",
              "      <td>97741.0470</td>\n",
              "      <td>100097.4638</td>\n",
              "      <td>79993.7164</td>\n",
              "      <td>1480235.758</td>\n",
              "    </tr>\n",
              "  </tbody>\n",
              "</table>\n",
              "<p>5 rows × 49 columns</p>\n",
              "</div>\n",
              "      <button class=\"colab-df-convert\" onclick=\"convertToInteractive('df-625e2b64-3722-43eb-a5b5-9dece34a1731')\"\n",
              "              title=\"Convert this dataframe to an interactive table.\"\n",
              "              style=\"display:none;\">\n",
              "        \n",
              "  <svg xmlns=\"http://www.w3.org/2000/svg\" height=\"24px\"viewBox=\"0 0 24 24\"\n",
              "       width=\"24px\">\n",
              "    <path d=\"M0 0h24v24H0V0z\" fill=\"none\"/>\n",
              "    <path d=\"M18.56 5.44l.94 2.06.94-2.06 2.06-.94-2.06-.94-.94-2.06-.94 2.06-2.06.94zm-11 1L8.5 8.5l.94-2.06 2.06-.94-2.06-.94L8.5 2.5l-.94 2.06-2.06.94zm10 10l.94 2.06.94-2.06 2.06-.94-2.06-.94-.94-2.06-.94 2.06-2.06.94z\"/><path d=\"M17.41 7.96l-1.37-1.37c-.4-.4-.92-.59-1.43-.59-.52 0-1.04.2-1.43.59L10.3 9.45l-7.72 7.72c-.78.78-.78 2.05 0 2.83L4 21.41c.39.39.9.59 1.41.59.51 0 1.02-.2 1.41-.59l7.78-7.78 2.81-2.81c.8-.78.8-2.07 0-2.86zM5.41 20L4 18.59l7.72-7.72 1.47 1.35L5.41 20z\"/>\n",
              "  </svg>\n",
              "      </button>\n",
              "      \n",
              "  <style>\n",
              "    .colab-df-container {\n",
              "      display:flex;\n",
              "      flex-wrap:wrap;\n",
              "      gap: 12px;\n",
              "    }\n",
              "\n",
              "    .colab-df-convert {\n",
              "      background-color: #E8F0FE;\n",
              "      border: none;\n",
              "      border-radius: 50%;\n",
              "      cursor: pointer;\n",
              "      display: none;\n",
              "      fill: #1967D2;\n",
              "      height: 32px;\n",
              "      padding: 0 0 0 0;\n",
              "      width: 32px;\n",
              "    }\n",
              "\n",
              "    .colab-df-convert:hover {\n",
              "      background-color: #E2EBFA;\n",
              "      box-shadow: 0px 1px 2px rgba(60, 64, 67, 0.3), 0px 1px 3px 1px rgba(60, 64, 67, 0.15);\n",
              "      fill: #174EA6;\n",
              "    }\n",
              "\n",
              "    [theme=dark] .colab-df-convert {\n",
              "      background-color: #3B4455;\n",
              "      fill: #D2E3FC;\n",
              "    }\n",
              "\n",
              "    [theme=dark] .colab-df-convert:hover {\n",
              "      background-color: #434B5C;\n",
              "      box-shadow: 0px 1px 3px 1px rgba(0, 0, 0, 0.15);\n",
              "      filter: drop-shadow(0px 1px 2px rgba(0, 0, 0, 0.3));\n",
              "      fill: #FFFFFF;\n",
              "    }\n",
              "  </style>\n",
              "\n",
              "      <script>\n",
              "        const buttonEl =\n",
              "          document.querySelector('#df-625e2b64-3722-43eb-a5b5-9dece34a1731 button.colab-df-convert');\n",
              "        buttonEl.style.display =\n",
              "          google.colab.kernel.accessAllowed ? 'block' : 'none';\n",
              "\n",
              "        async function convertToInteractive(key) {\n",
              "          const element = document.querySelector('#df-625e2b64-3722-43eb-a5b5-9dece34a1731');\n",
              "          const dataTable =\n",
              "            await google.colab.kernel.invokeFunction('convertToInteractive',\n",
              "                                                     [key], {});\n",
              "          if (!dataTable) return;\n",
              "\n",
              "          const docLinkHtml = 'Like what you see? Visit the ' +\n",
              "            '<a target=\"_blank\" href=https://colab.research.google.com/notebooks/data_table.ipynb>data table notebook</a>'\n",
              "            + ' to learn more about interactive tables.';\n",
              "          element.innerHTML = '';\n",
              "          dataTable['output_type'] = 'display_data';\n",
              "          await google.colab.output.renderOutput(dataTable, element);\n",
              "          const docLink = document.createElement('div');\n",
              "          docLink.innerHTML = docLinkHtml;\n",
              "          element.appendChild(docLink);\n",
              "        }\n",
              "      </script>\n",
              "    </div>\n",
              "  </div>\n",
              "  "
            ]
          },
          "metadata": {},
          "execution_count": 33
        }
      ],
      "source": [
        "# df = pd.read_csv('/content/Sydney_Data.csv')\n",
        "# df = pd.read_csv('/content/Adelaide_Data.csv')\n",
        "df = pd.read_csv('/content/Perth_Data.csv')\n",
        "# df = pd.read_csv('/content/Tasmania_Data.csv')\n",
        "\n",
        "df.head()\n",
        "# df.isnull().sum()\n",
        "# df.shape\n",
        "# df.describe()\n",
        "# df.columns[32:]\n",
        "# df.tail()"
      ]
    },
    {
      "cell_type": "code",
      "execution_count": 34,
      "metadata": {
        "id": "l3lFnqoqOpMV"
      },
      "outputs": [],
      "source": [
        "corr_matrix = df.corr(\n",
        "    method = 'pearson'\n",
        ").abs()\n",
        "# corr_matrix.head()\n",
        "\n",
        "# upper = corr_matrix.where(np.triu(np.ones(corr_matrix.shape), k=1).astype(np.bool))\n",
        "\n",
        "# # Find features with correlation greater than 0.95\n",
        "# to_drop = [column for column in upper.columns if any(upper[column] > 0.95)]\n",
        "\n",
        "# # Drop features \n",
        "# df.drop(to_drop, axis=1, inplace=True)\n"
      ]
    },
    {
      "cell_type": "code",
      "execution_count": 35,
      "metadata": {
        "id": "2cQfJLjnOwqZ",
        "colab": {
          "base_uri": "https://localhost:8080/",
          "height": 292
        },
        "outputId": "f386e92c-6cec-4331-86de-587ba0ca7ad7"
      },
      "outputs": [
        {
          "output_type": "execute_result",
          "data": {
            "text/plain": [
              "<matplotlib.image.AxesImage at 0x7fb7ef59e790>"
            ]
          },
          "metadata": {},
          "execution_count": 35
        },
        {
          "output_type": "display_data",
          "data": {
            "text/plain": [
              "<Figure size 288x288 with 1 Axes>"
            ],
            "image/png": "[encoded data removed]"
          },
          "metadata": {
            "needs_background": "light"
          }
        }
      ],
      "source": [
        "plt.matshow(corr_matrix)"
      ]
    },
    {
      "cell_type": "code",
      "source": [
        "# Distribution of total output\n",
        "\n",
        "sb.distplot(df.iloc[:, -1])"
      ],
      "metadata": {
        "colab": {
          "base_uri": "https://localhost:8080/",
          "height": 362
        },
        "id": "eXQ7hdr2x9mP",
        "outputId": "fc39fa40-13f7-4abb-e53d-129d52579b26"
      },
      "execution_count": 36,
      "outputs": [
        {
          "output_type": "stream",
          "name": "stderr",
          "text": [
            "/usr/local/lib/python3.7/dist-packages/seaborn/distributions.py:2619: FutureWarning: `distplot` is a deprecated function and will be removed in a future version. Please adapt your code to use either `displot` (a figure-level function with similar flexibility) or `histplot` (an axes-level function for histograms).\n",
            "  warnings.warn(msg, FutureWarning)\n"
          ]
        },
        {
          "output_type": "execute_result",
          "data": {
            "text/plain": [
              "<matplotlib.axes._subplots.AxesSubplot at 0x7fb7ef5503d0>"
            ]
          },
          "metadata": {},
          "execution_count": 36
        },
        {
          "output_type": "display_data",
          "data": {
            "text/plain": [
              "<Figure size 432x288 with 1 Axes>"
            ],
            "image/png": "[encoded data removed]"
          },
          "metadata": {
            "needs_background": "light"
          }
        }
      ]
    },
    {
      "cell_type": "code",
      "execution_count": 37,
      "metadata": {
        "id": "AN1XLBEDO2xh"
      },
      "outputs": [],
      "source": [
        "# # X = df.drop(df.iloc[:, 32:49], axis = 'columns')\n",
        "# X = df.iloc[:, :32]\n",
        "# # X = df.drop('1463622.174', axis='columns')\n",
        "# y = df.iloc[:, -1]"
      ]
    },
    {
      "cell_type": "code",
      "source": [
        "from sklearn.model_selection import train_test_split\n",
        "\n",
        "X = df.iloc[:, :32]\n",
        "y = df.iloc[:, -1]\n",
        "\n",
        "X_train, X_test, y_train, y_test = train_test_split(X, y, test_size = 0.2)\n",
        "print(X_train.shape, y_train.shape)\n",
        "print(X_test.shape, y_test.shape)"
      ],
      "metadata": {
        "colab": {
          "base_uri": "https://localhost:8080/"
        },
        "id": "Fy6tXcUvBrod",
        "outputId": "d99eaa34-5d01-43f8-95cb-be765b1b7d08"
      },
      "execution_count": 38,
      "outputs": [
        {
          "output_type": "stream",
          "name": "stdout",
          "text": [
            "(57599, 32) (57599,)\n",
            "(14400, 32) (14400,)\n"
          ]
        }
      ]
    },
    {
      "cell_type": "code",
      "source": [
        "# Linear regression\n",
        "\n",
        "from sklearn.linear_model import LinearRegression\n",
        "\n",
        "clf = LinearRegression()\n",
        "clf.fit(X_train, y_train)\n",
        "y_pred = clf.predict(X_test)\n",
        "# y_pred[-1]"
      ],
      "metadata": {
        "id": "zVEPNZb3B1ou"
      },
      "execution_count": 39,
      "outputs": []
    },
    {
      "cell_type": "code",
      "source": [
        "# plotting the comparison of actual and predicted values\n",
        "\n",
        "df_temp = pd.DataFrame({'Actual': y_test, 'Predicted': y_pred})\n",
        "df_temp = df_temp.head(30)\n",
        "df_temp.plot(kind='bar',figsize=(10,6))\n",
        "plt.grid(which='major', linestyle='-', linewidth='0.5', color='green')\n",
        "plt.grid(which='minor', linestyle=':', linewidth='0.5', color='black')\n",
        "plt.show()"
      ],
      "metadata": {
        "colab": {
          "base_uri": "https://localhost:8080/",
          "height": 407
        },
        "id": "ekVwhqiiCR2t",
        "outputId": "27e019f2-1fff-49f7-ab9e-2115c1828ff6"
      },
      "execution_count": 40,
      "outputs": [
        {
          "output_type": "display_data",
          "data": {
            "text/plain": [
              "<Figure size 720x432 with 1 Axes>"
            ],
            "image/png": "[encoded data removed]"
          },
          "metadata": {
            "needs_background": "light"
          }
        }
      ]
    },
    {
      "cell_type": "code",
      "source": [
        "plt.scatter(y_test, y_pred)"
      ],
      "metadata": {
        "colab": {
          "base_uri": "https://localhost:8080/",
          "height": 306
        },
        "id": "Ue1dA_ne1_zb",
        "outputId": "daa6318a-00c2-4f17-c3e0-83ec1f1d419c"
      },
      "execution_count": 41,
      "outputs": [
        {
          "output_type": "execute_result",
          "data": {
            "text/plain": [
              "<matplotlib.collections.PathCollection at 0x7fb7f0009590>"
            ]
          },
          "metadata": {},
          "execution_count": 41
        },
        {
          "output_type": "display_data",
          "data": {
            "text/plain": [
              "<Figure size 432x288 with 1 Axes>"
            ],
            "image/png": "[encoded data removed]"
          },
          "metadata": {
            "needs_background": "light"
          }
        }
      ]
    },
    {
      "cell_type": "code",
      "source": [
        "sb.distplot((y_test-y_pred))"
      ],
      "metadata": {
        "colab": {
          "base_uri": "https://localhost:8080/",
          "height": 362
        },
        "id": "m3XYqnvX2XUJ",
        "outputId": "59bd92e8-8078-42da-9d30-41b04ad9f9d0"
      },
      "execution_count": 42,
      "outputs": [
        {
          "output_type": "stream",
          "name": "stderr",
          "text": [
            "/usr/local/lib/python3.7/dist-packages/seaborn/distributions.py:2619: FutureWarning: `distplot` is a deprecated function and will be removed in a future version. Please adapt your code to use either `displot` (a figure-level function with similar flexibility) or `histplot` (an axes-level function for histograms).\n",
            "  warnings.warn(msg, FutureWarning)\n"
          ]
        },
        {
          "output_type": "execute_result",
          "data": {
            "text/plain": [
              "<matplotlib.axes._subplots.AxesSubplot at 0x7fb7eff6aa50>"
            ]
          },
          "metadata": {},
          "execution_count": 42
        },
        {
          "output_type": "display_data",
          "data": {
            "text/plain": [
              "<Figure size 432x288 with 1 Axes>"
            ],
            "image/png": "[encoded data removed]"
          },
          "metadata": {
            "needs_background": "light"
          }
        }
      ]
    },
    {
      "cell_type": "code",
      "source": [
        "# accuracy check\n",
        "\n",
        "mse = mean_squared_error(y_test, y_pred)\n",
        "rmse = float(format(np.sqrt(mean_squared_error(y_test, y_pred)), '.3f'))\n",
        "r2 = clf.score(X_train, y_train)\n",
        "\n",
        "print(\"MSE: %.2f\" % mse)\n",
        "print(\"RMSE: %.2f\" % rmse) \n",
        "print(\"R²: %.2f\" % r2)"
      ],
      "metadata": {
        "colab": {
          "base_uri": "https://localhost:8080/"
        },
        "id": "vwKnv8Gq0API",
        "outputId": "2fde33eb-0bad-4822-c82a-8346c78a81ef"
      },
      "execution_count": 43,
      "outputs": [
        {
          "output_type": "stream",
          "name": "stdout",
          "text": [
            "MSE: 2331533562.87\n",
            "RMSE: 48285.96\n",
            "R²: 0.14\n"
          ]
        }
      ]
    },
    {
      "cell_type": "code",
      "source": [
        "from sklearn.metrics import mean_squared_error\n",
        "import xgboost as xgb\n",
        "\n",
        "# xg_reg = xgb.XGBRegressor(objective ='reg:linear', colsample_bytree = 0.3, learning_rate = 0.1,\n",
        "#                           max_depth = 5, alpha = 10, n_estimators = 10)\n",
        "xg_reg = xgb.XGBRegressor()\n",
        "\n",
        "xg_reg.fit(X_train,y_train)\n",
        "preds = xg_reg.predict(X_test)\n",
        "\n",
        "# accuracy check\n",
        "mse = mean_squared_error(y_test, preds)\n",
        "rmse = mse**(0.5)\n",
        "r2 = xg_reg.score(X_train, y_train)\n",
        "print(\"R²: %.2f\" % r2)\n",
        "print(\"MSE: %.2f\" % mse)\n",
        "print(\"RMSE: %.2f\" % rmse) "
      ],
      "metadata": {
        "colab": {
          "base_uri": "https://localhost:8080/"
        },
        "id": "hcwEPVlp3Wos",
        "outputId": "5708a330-f905-40ab-a7f6-d4dac1a63874"
      },
      "execution_count": 44,
      "outputs": [
        {
          "output_type": "stream",
          "name": "stdout",
          "text": [
            "[12:27:13] WARNING: /workspace/src/objective/regression_obj.cu:152: reg:linear is now deprecated in favor of reg:squarederror.\n",
            "R²: 0.69\n",
            "MSE: 856855000.14\n",
            "RMSE: 29272.09\n"
          ]
        }
      ]
    },
    {
      "cell_type": "code",
      "source": [
        "plt.scatter(y_test, preds)"
      ],
      "metadata": {
        "colab": {
          "base_uri": "https://localhost:8080/",
          "height": 306
        },
        "id": "YiIel_kr29kV",
        "outputId": "441326c9-b97a-45ef-8be6-d319670479c0"
      },
      "execution_count": 45,
      "outputs": [
        {
          "output_type": "execute_result",
          "data": {
            "text/plain": [
              "<matplotlib.collections.PathCollection at 0x7fb7f0600bd0>"
            ]
          },
          "metadata": {},
          "execution_count": 45
        },
        {
          "output_type": "display_data",
          "data": {
            "text/plain": [
              "<Figure size 432x288 with 1 Axes>"
            ],
            "image/png": "[encoded data removed]"
          },
          "metadata": {
            "needs_background": "light"
          }
        }
      ]
    },
    {
      "cell_type": "code",
      "source": [
        "# plotting the comparison of actual and predicted values\n",
        "\n",
        "df_temp = pd.DataFrame({'Actual': y_test, 'Predicted': preds})\n",
        "df_temp = df_temp.head(30)\n",
        "df_temp.plot(kind='bar',figsize=(10,6))\n",
        "plt.grid(which='major', linestyle='-', linewidth='0.5', color='green')\n",
        "plt.grid(which='minor', linestyle=':', linewidth='0.5', color='black')\n",
        "plt.show()"
      ],
      "metadata": {
        "colab": {
          "base_uri": "https://localhost:8080/",
          "height": 407
        },
        "id": "MC97yIUASKJv",
        "outputId": "bc07772d-b88a-41b3-aeaf-bb4e12749783"
      },
      "execution_count": 46,
      "outputs": [
        {
          "output_type": "display_data",
          "data": {
            "text/plain": [
              "<Figure size 720x432 with 1 Axes>"
            ],
            "image/png": "[encoded data removed]"
          },
          "metadata": {
            "needs_background": "light"
          }
        }
      ]
    },
    {
      "cell_type": "code",
      "source": [
        "# Random forest\n",
        "\n",
        "from sklearn.ensemble import RandomForestRegressor\n",
        "modelRF = RandomForestRegressor(n_estimators = 10, random_state = 0)\n",
        "modelRF.fit(X_train, y_train)"
      ],
      "metadata": {
        "id": "KZDANG8H3XfA",
        "colab": {
          "base_uri": "https://localhost:8080/"
        },
        "outputId": "a440086b-10e3-435b-e0a6-bf015216a889"
      },
      "execution_count": 47,
      "outputs": [
        {
          "output_type": "execute_result",
          "data": {
            "text/plain": [
              "RandomForestRegressor(n_estimators=10, random_state=0)"
            ]
          },
          "metadata": {},
          "execution_count": 47
        }
      ]
    },
    {
      "cell_type": "code",
      "source": [
        "# Predicting the target values of the test set\n",
        "y_pred = modelRF.predict(X_test)\n",
        "\n",
        "mse = mean_squared_error(y_test, y_pred)\n",
        "rmse = float(format(np.sqrt(mse), '.3f'))\n",
        "r2 = modelRF.score(X_train, y_train)\n",
        "\n",
        "print(\"R²: %.2f\" % r2)\n",
        "print(\"MSE: %.2f\" % mse)\n",
        "print(\"RMSE: %.2f\" % rmse) "
      ],
      "metadata": {
        "colab": {
          "base_uri": "https://localhost:8080/"
        },
        "id": "gVykxbCJDLZt",
        "outputId": "936f1707-2995-45b8-e03c-0ff834efd598"
      },
      "execution_count": 48,
      "outputs": [
        {
          "output_type": "stream",
          "name": "stdout",
          "text": [
            "R²: 0.96\n",
            "MSE: 657161482.30\n",
            "RMSE: 25635.16\n"
          ]
        }
      ]
    },
    {
      "cell_type": "code",
      "source": [
        "plt.scatter(y_test, y_pred)"
      ],
      "metadata": {
        "id": "kbMyaGEsEMrJ",
        "colab": {
          "base_uri": "https://localhost:8080/",
          "height": 306
        },
        "outputId": "841cd8f2-1056-4dfe-afd4-79c9ffe92976"
      },
      "execution_count": 49,
      "outputs": [
        {
          "output_type": "execute_result",
          "data": {
            "text/plain": [
              "<matplotlib.collections.PathCollection at 0x7fb7f0600e10>"
            ]
          },
          "metadata": {},
          "execution_count": 49
        },
        {
          "output_type": "display_data",
          "data": {
            "text/plain": [
              "<Figure size 432x288 with 1 Axes>"
            ],
            "image/png": "[encoded data removed]"
          },
          "metadata": {
            "needs_background": "light"
          }
        }
      ]
    },
    {
      "cell_type": "code",
      "source": [
        "# plotting the comparison of actual and predicted values\n",
        "\n",
        "df_temp = pd.DataFrame({'Actual': y_test, 'Predicted': y_pred})\n",
        "df_temp = df_temp.head(30)\n",
        "df_temp.plot(kind='bar',figsize=(10,6))\n",
        "plt.grid(which='major', linestyle='-', linewidth='0.5', color='green')\n",
        "plt.grid(which='minor', linestyle=':', linewidth='0.5', color='black')\n",
        "plt.show()"
      ],
      "metadata": {
        "colab": {
          "base_uri": "https://localhost:8080/",
          "height": 407
        },
        "id": "j44pOvZSSt-A",
        "outputId": "1016e3a3-f611-479f-a9c5-3baa2498fb4c"
      },
      "execution_count": 50,
      "outputs": [
        {
          "output_type": "display_data",
          "data": {
            "text/plain": [
              "<Figure size 720x432 with 1 Axes>"
            ],
            "image/png": "[encoded data removed]"
          },
          "metadata": {
            "needs_background": "light"
          }
        }
      ]
    },
    {
      "cell_type": "code",
      "source": [
        "# Light GBM\n",
        "\n",
        "import lightgbm as lgb\n",
        "\n",
        "# defining parameters \n",
        "params = {\n",
        "    'task': 'train', \n",
        "    'boosting': 'gbdt',\n",
        "    'objective': 'regression',\n",
        "    'num_leaves': 10,\n",
        "    'learnnig_rage': 0.05,\n",
        "    'metric': {'l2','l1'},\n",
        "    'verbose': -1\n",
        "}\n",
        "\n",
        "# laoding data\n",
        "lgb_train = lgb.Dataset(X_train, y_train)\n",
        "lgb_eval = lgb.Dataset(X_test, y_test, reference=lgb_train)\n",
        "\n",
        "# fitting the model\n",
        "modelGBM = lgb.train(params,\n",
        "                 train_set=lgb_train,\n",
        "                 valid_sets=lgb_eval,\n",
        "                 early_stopping_rounds=30)\n",
        "\n",
        "# prediction\n",
        "y_pred = modelGBM.predict(X_test)"
      ],
      "metadata": {
        "colab": {
          "base_uri": "https://localhost:8080/"
        },
        "id": "OZxY8zWG3CEH",
        "outputId": "670ff1c1-31a9-4990-f2eb-a8c05c6eedf6"
      },
      "execution_count": 51,
      "outputs": [
        {
          "output_type": "stream",
          "name": "stdout",
          "text": [
            "[1]\tvalid_0's l1: 40206.9\tvalid_0's l2: 2.56124e+09\n",
            "Training until validation scores don't improve for 30 rounds.\n",
            "[2]\tvalid_0's l1: 39101.7\tvalid_0's l2: 2.43012e+09\n",
            "[3]\tvalid_0's l1: 38172.1\tvalid_0's l2: 2.3205e+09\n",
            "[4]\tvalid_0's l1: 37296.9\tvalid_0's l2: 2.22124e+09\n",
            "[5]\tvalid_0's l1: 36481.1\tvalid_0's l2: 2.13218e+09\n",
            "[6]\tvalid_0's l1: 35775.5\tvalid_0's l2: 2.05597e+09\n",
            "[7]\tvalid_0's l1: 34971.9\tvalid_0's l2: 1.96367e+09\n",
            "[8]\tvalid_0's l1: 34308.1\tvalid_0's l2: 1.8925e+09\n",
            "[9]\tvalid_0's l1: 33673.7\tvalid_0's l2: 1.82782e+09\n",
            "[10]\tvalid_0's l1: 33062.7\tvalid_0's l2: 1.7638e+09\n",
            "[11]\tvalid_0's l1: 32486.7\tvalid_0's l2: 1.70739e+09\n",
            "[12]\tvalid_0's l1: 31931.7\tvalid_0's l2: 1.65181e+09\n",
            "[13]\tvalid_0's l1: 31405.3\tvalid_0's l2: 1.60192e+09\n",
            "[14]\tvalid_0's l1: 30999.8\tvalid_0's l2: 1.56057e+09\n",
            "[15]\tvalid_0's l1: 30524\tvalid_0's l2: 1.51758e+09\n",
            "[16]\tvalid_0's l1: 30080.1\tvalid_0's l2: 1.48001e+09\n",
            "[17]\tvalid_0's l1: 29633.3\tvalid_0's l2: 1.44013e+09\n",
            "[18]\tvalid_0's l1: 29233.7\tvalid_0's l2: 1.40478e+09\n",
            "[19]\tvalid_0's l1: 28863.5\tvalid_0's l2: 1.37216e+09\n",
            "[20]\tvalid_0's l1: 28529.6\tvalid_0's l2: 1.34157e+09\n",
            "[21]\tvalid_0's l1: 28228.7\tvalid_0's l2: 1.31754e+09\n",
            "[22]\tvalid_0's l1: 27977.8\tvalid_0's l2: 1.29537e+09\n",
            "[23]\tvalid_0's l1: 27649\tvalid_0's l2: 1.26961e+09\n",
            "[24]\tvalid_0's l1: 27383.1\tvalid_0's l2: 1.24811e+09\n",
            "[25]\tvalid_0's l1: 27131.7\tvalid_0's l2: 1.22451e+09\n",
            "[26]\tvalid_0's l1: 26896.4\tvalid_0's l2: 1.20354e+09\n",
            "[27]\tvalid_0's l1: 26622.3\tvalid_0's l2: 1.18176e+09\n",
            "[28]\tvalid_0's l1: 26474.3\tvalid_0's l2: 1.16768e+09\n",
            "[29]\tvalid_0's l1: 26247.2\tvalid_0's l2: 1.14928e+09\n",
            "[30]\tvalid_0's l1: 26028.7\tvalid_0's l2: 1.13201e+09\n",
            "[31]\tvalid_0's l1: 25817.4\tvalid_0's l2: 1.11462e+09\n",
            "[32]\tvalid_0's l1: 25599.1\tvalid_0's l2: 1.09769e+09\n",
            "[33]\tvalid_0's l1: 25405.1\tvalid_0's l2: 1.08083e+09\n",
            "[34]\tvalid_0's l1: 25212.7\tvalid_0's l2: 1.06525e+09\n",
            "[35]\tvalid_0's l1: 25099.4\tvalid_0's l2: 1.05461e+09\n",
            "[36]\tvalid_0's l1: 24947.9\tvalid_0's l2: 1.04221e+09\n",
            "[37]\tvalid_0's l1: 24787.6\tvalid_0's l2: 1.03103e+09\n",
            "[38]\tvalid_0's l1: 24673.5\tvalid_0's l2: 1.02189e+09\n",
            "[39]\tvalid_0's l1: 24563.3\tvalid_0's l2: 1.00947e+09\n",
            "[40]\tvalid_0's l1: 24412.1\tvalid_0's l2: 9.97756e+08\n",
            "[41]\tvalid_0's l1: 24243\tvalid_0's l2: 9.84837e+08\n",
            "[42]\tvalid_0's l1: 24192.2\tvalid_0's l2: 9.77965e+08\n",
            "[43]\tvalid_0's l1: 24042.4\tvalid_0's l2: 9.66534e+08\n",
            "[44]\tvalid_0's l1: 23938.6\tvalid_0's l2: 9.58764e+08\n",
            "[45]\tvalid_0's l1: 23817.1\tvalid_0's l2: 9.50122e+08\n",
            "[46]\tvalid_0's l1: 23637\tvalid_0's l2: 9.36699e+08\n",
            "[47]\tvalid_0's l1: 23522.7\tvalid_0's l2: 9.27591e+08\n",
            "[48]\tvalid_0's l1: 23352.9\tvalid_0's l2: 9.15476e+08\n",
            "[49]\tvalid_0's l1: 23189.9\tvalid_0's l2: 9.04231e+08\n",
            "[50]\tvalid_0's l1: 23129.2\tvalid_0's l2: 8.99078e+08\n",
            "[51]\tvalid_0's l1: 22982.4\tvalid_0's l2: 8.88367e+08\n",
            "[52]\tvalid_0's l1: 22859.9\tvalid_0's l2: 8.7962e+08\n",
            "[53]\tvalid_0's l1: 22746.6\tvalid_0's l2: 8.70632e+08\n",
            "[54]\tvalid_0's l1: 22643.5\tvalid_0's l2: 8.63271e+08\n",
            "[55]\tvalid_0's l1: 22590.7\tvalid_0's l2: 8.57741e+08\n",
            "[56]\tvalid_0's l1: 22498.3\tvalid_0's l2: 8.51412e+08\n",
            "[57]\tvalid_0's l1: 22391.2\tvalid_0's l2: 8.43837e+08\n",
            "[58]\tvalid_0's l1: 22308.7\tvalid_0's l2: 8.37694e+08\n",
            "[59]\tvalid_0's l1: 22249.4\tvalid_0's l2: 8.32475e+08\n",
            "[60]\tvalid_0's l1: 22155.1\tvalid_0's l2: 8.25755e+08\n",
            "[61]\tvalid_0's l1: 22024.7\tvalid_0's l2: 8.17578e+08\n",
            "[62]\tvalid_0's l1: 21954.8\tvalid_0's l2: 8.12184e+08\n",
            "[63]\tvalid_0's l1: 21841.9\tvalid_0's l2: 8.04736e+08\n",
            "[64]\tvalid_0's l1: 21759.4\tvalid_0's l2: 7.99171e+08\n",
            "[65]\tvalid_0's l1: 21689.1\tvalid_0's l2: 7.9374e+08\n",
            "[66]\tvalid_0's l1: 21634.5\tvalid_0's l2: 7.89524e+08\n",
            "[67]\tvalid_0's l1: 21555.1\tvalid_0's l2: 7.83766e+08\n",
            "[68]\tvalid_0's l1: 21458.6\tvalid_0's l2: 7.77398e+08\n",
            "[69]\tvalid_0's l1: 21411.2\tvalid_0's l2: 7.73911e+08\n",
            "[70]\tvalid_0's l1: 21326.6\tvalid_0's l2: 7.67882e+08\n",
            "[71]\tvalid_0's l1: 21262.2\tvalid_0's l2: 7.63371e+08\n",
            "[72]\tvalid_0's l1: 21208.3\tvalid_0's l2: 7.5935e+08\n",
            "[73]\tvalid_0's l1: 21150.6\tvalid_0's l2: 7.55601e+08\n",
            "[74]\tvalid_0's l1: 21065.4\tvalid_0's l2: 7.49774e+08\n",
            "[75]\tvalid_0's l1: 20998.6\tvalid_0's l2: 7.44949e+08\n",
            "[76]\tvalid_0's l1: 20950\tvalid_0's l2: 7.41286e+08\n",
            "[77]\tvalid_0's l1: 20884.6\tvalid_0's l2: 7.36748e+08\n",
            "[78]\tvalid_0's l1: 20838.4\tvalid_0's l2: 7.33182e+08\n",
            "[79]\tvalid_0's l1: 20780.5\tvalid_0's l2: 7.28412e+08\n",
            "[80]\tvalid_0's l1: 20718.1\tvalid_0's l2: 7.24094e+08\n",
            "[81]\tvalid_0's l1: 20655.7\tvalid_0's l2: 7.19824e+08\n",
            "[82]\tvalid_0's l1: 20587.1\tvalid_0's l2: 7.1582e+08\n",
            "[83]\tvalid_0's l1: 20512.1\tvalid_0's l2: 7.11275e+08\n",
            "[84]\tvalid_0's l1: 20449\tvalid_0's l2: 7.07034e+08\n",
            "[85]\tvalid_0's l1: 20380\tvalid_0's l2: 7.0251e+08\n",
            "[86]\tvalid_0's l1: 20340.4\tvalid_0's l2: 6.99907e+08\n",
            "[87]\tvalid_0's l1: 20278.1\tvalid_0's l2: 6.95804e+08\n",
            "[88]\tvalid_0's l1: 20223.1\tvalid_0's l2: 6.92347e+08\n",
            "[89]\tvalid_0's l1: 20172\tvalid_0's l2: 6.88596e+08\n",
            "[90]\tvalid_0's l1: 20102.1\tvalid_0's l2: 6.84242e+08\n",
            "[91]\tvalid_0's l1: 20031.5\tvalid_0's l2: 6.79849e+08\n",
            "[92]\tvalid_0's l1: 19983.4\tvalid_0's l2: 6.76573e+08\n",
            "[93]\tvalid_0's l1: 19928.2\tvalid_0's l2: 6.73192e+08\n",
            "[94]\tvalid_0's l1: 19848.4\tvalid_0's l2: 6.68416e+08\n",
            "[95]\tvalid_0's l1: 19780.3\tvalid_0's l2: 6.64033e+08\n",
            "[96]\tvalid_0's l1: 19713.3\tvalid_0's l2: 6.6016e+08\n",
            "[97]\tvalid_0's l1: 19668.5\tvalid_0's l2: 6.57257e+08\n",
            "[98]\tvalid_0's l1: 19638.3\tvalid_0's l2: 6.54968e+08\n",
            "[99]\tvalid_0's l1: 19574.2\tvalid_0's l2: 6.5115e+08\n",
            "[100]\tvalid_0's l1: 19511.7\tvalid_0's l2: 6.47428e+08\n",
            "Did not meet early stopping. Best iteration is:\n",
            "[100]\tvalid_0's l1: 19511.7\tvalid_0's l2: 6.47428e+08\n"
          ]
        }
      ]
    },
    {
      "cell_type": "code",
      "source": [
        "# accuracy check (light gbm)\n",
        "\n",
        "from sklearn.metrics import r2_score\n",
        "\n",
        "mse = mean_squared_error(y_test, y_pred)\n",
        "rmse = mse**(0.5)\n",
        "r2 = r2_score(y_test, y_pred)\n",
        "\n",
        "print(\"R²: %.2f\" % r2)\n",
        "print(\"MSE: %.2f\" % mse)\n",
        "print(\"RMSE: %.2f\" % rmse) "
      ],
      "metadata": {
        "colab": {
          "base_uri": "https://localhost:8080/"
        },
        "id": "RJaA6mACFWGZ",
        "outputId": "d904d1db-a8e4-42c8-ce8b-21c0f5dac0df"
      },
      "execution_count": 52,
      "outputs": [
        {
          "output_type": "stream",
          "name": "stdout",
          "text": [
            "R²: 0.76\n",
            "MSE: 647428302.67\n",
            "RMSE: 25444.61\n"
          ]
        }
      ]
    },
    {
      "cell_type": "code",
      "source": [
        "plt.scatter(y_test, y_pred)"
      ],
      "metadata": {
        "colab": {
          "base_uri": "https://localhost:8080/",
          "height": 306
        },
        "id": "f-j5wCKj4Ih5",
        "outputId": "a0b42c25-c2ae-48af-b57a-84a5a0056bee"
      },
      "execution_count": 53,
      "outputs": [
        {
          "output_type": "execute_result",
          "data": {
            "text/plain": [
              "<matplotlib.collections.PathCollection at 0x7fb7ef488250>"
            ]
          },
          "metadata": {},
          "execution_count": 53
        },
        {
          "output_type": "display_data",
          "data": {
            "text/plain": [
              "<Figure size 432x288 with 1 Axes>"
            ],
            "image/png": "[encoded data removed]"
          },
          "metadata": {
            "needs_background": "light"
          }
        }
      ]
    },
    {
      "cell_type": "code",
      "source": [
        "# plotting the comparison of actual and predicted values\n",
        "\n",
        "df_temp = pd.DataFrame({'Actual': y_test, 'Predicted': y_pred})\n",
        "df_temp = df_temp.head(30)\n",
        "df_temp.plot(kind='bar',figsize=(10,6))\n",
        "plt.grid(which='major', linestyle='-', linewidth='0.5', color='green')\n",
        "plt.grid(which='minor', linestyle=':', linewidth='0.5', color='black')\n",
        "plt.show()"
      ],
      "metadata": {
        "colab": {
          "base_uri": "https://localhost:8080/",
          "height": 407
        },
        "id": "uy01RRGSTAvp",
        "outputId": "84d979a3-3b96-4542-975e-8b74c5ab9f52"
      },
      "execution_count": 54,
      "outputs": [
        {
          "output_type": "display_data",
          "data": {
            "text/plain": [
              "<Figure size 720x432 with 1 Axes>"
            ],
            "image/png": "[encoded data removed]"
          },
          "metadata": {
            "needs_background": "light"
          }
        }
      ]
    },
    {
      "cell_type": "code",
      "source": [
        "# MLP regressor\n",
        "\n",
        "from sklearn.neural_network import MLPRegressor\n",
        "\n",
        "modelMLP = MLPRegressor()\n",
        "modelMLP.fit(X_train, y_train)\n",
        "# print(model)"
      ],
      "metadata": {
        "colab": {
          "base_uri": "https://localhost:8080/"
        },
        "id": "w9X7ypZh6E08",
        "outputId": "40d5df5d-7854-4dc3-e5cd-7bde69c048f4"
      },
      "execution_count": 55,
      "outputs": [
        {
          "output_type": "stream",
          "name": "stderr",
          "text": [
            "/usr/local/lib/python3.7/dist-packages/sklearn/neural_network/_multilayer_perceptron.py:696: ConvergenceWarning: Stochastic Optimizer: Maximum iterations (200) reached and the optimization hasn't converged yet.\n",
            "  ConvergenceWarning,\n"
          ]
        },
        {
          "output_type": "execute_result",
          "data": {
            "text/plain": [
              "MLPRegressor()"
            ]
          },
          "metadata": {},
          "execution_count": 55
        }
      ]
    },
    {
      "cell_type": "code",
      "source": [
        "y_pred = modelMLP.predict(X_test)\n",
        "df_temp = pd.DataFrame({'Actual': y_test, 'Predicted': y_pred})\n",
        "df_temp.head()"
      ],
      "metadata": {
        "colab": {
          "base_uri": "https://localhost:8080/",
          "height": 206
        },
        "id": "YIx84U9C7ryp",
        "outputId": "16b114a8-a926-4103-fe44-6a60bbd3a783"
      },
      "execution_count": 56,
      "outputs": [
        {
          "output_type": "execute_result",
          "data": {
            "text/plain": [
              "            Actual     Predicted\n",
              "31715  1430949.338  1.389887e+06\n",
              "60126  1364270.624  1.299671e+06\n",
              "69111  1372248.878  1.368518e+06\n",
              "48291  1357292.773  1.088155e+06\n",
              "26433  1296398.282  1.257550e+06"
            ],
            "text/html": [
              "\n",
              "  <div id=\"df-c0a7f2cd-245f-4bd6-9d16-2a7d56cdc3d5\">\n",
              "    <div class=\"colab-df-container\">\n",
              "      <div>\n",
              "<style scoped>\n",
              "    .dataframe tbody tr th:only-of-type {\n",
              "        vertical-align: middle;\n",
              "    }\n",
              "\n",
              "    .dataframe tbody tr th {\n",
              "        vertical-align: top;\n",
              "    }\n",
              "\n",
              "    .dataframe thead th {\n",
              "        text-align: right;\n",
              "    }\n",
              "</style>\n",
              "<table border=\"1\" class=\"dataframe\">\n",
              "  <thead>\n",
              "    <tr style=\"text-align: right;\">\n",
              "      <th></th>\n",
              "      <th>Actual</th>\n",
              "      <th>Predicted</th>\n",
              "    </tr>\n",
              "  </thead>\n",
              "  <tbody>\n",
              "    <tr>\n",
              "      <th>31715</th>\n",
              "      <td>1430949.338</td>\n",
              "      <td>1.389887e+06</td>\n",
              "    </tr>\n",
              "    <tr>\n",
              "      <th>60126</th>\n",
              "      <td>1364270.624</td>\n",
              "      <td>1.299671e+06</td>\n",
              "    </tr>\n",
              "    <tr>\n",
              "      <th>69111</th>\n",
              "      <td>1372248.878</td>\n",
              "      <td>1.368518e+06</td>\n",
              "    </tr>\n",
              "    <tr>\n",
              "      <th>48291</th>\n",
              "      <td>1357292.773</td>\n",
              "      <td>1.088155e+06</td>\n",
              "    </tr>\n",
              "    <tr>\n",
              "      <th>26433</th>\n",
              "      <td>1296398.282</td>\n",
              "      <td>1.257550e+06</td>\n",
              "    </tr>\n",
              "  </tbody>\n",
              "</table>\n",
              "</div>\n",
              "      <button class=\"colab-df-convert\" onclick=\"convertToInteractive('df-c0a7f2cd-245f-4bd6-9d16-2a7d56cdc3d5')\"\n",
              "              title=\"Convert this dataframe to an interactive table.\"\n",
              "              style=\"display:none;\">\n",
              "        \n",
              "  <svg xmlns=\"http://www.w3.org/2000/svg\" height=\"24px\"viewBox=\"0 0 24 24\"\n",
              "       width=\"24px\">\n",
              "    <path d=\"M0 0h24v24H0V0z\" fill=\"none\"/>\n",
              "    <path d=\"M18.56 5.44l.94 2.06.94-2.06 2.06-.94-2.06-.94-.94-2.06-.94 2.06-2.06.94zm-11 1L8.5 8.5l.94-2.06 2.06-.94-2.06-.94L8.5 2.5l-.94 2.06-2.06.94zm10 10l.94 2.06.94-2.06 2.06-.94-2.06-.94-.94-2.06-.94 2.06-2.06.94z\"/><path d=\"M17.41 7.96l-1.37-1.37c-.4-.4-.92-.59-1.43-.59-.52 0-1.04.2-1.43.59L10.3 9.45l-7.72 7.72c-.78.78-.78 2.05 0 2.83L4 21.41c.39.39.9.59 1.41.59.51 0 1.02-.2 1.41-.59l7.78-7.78 2.81-2.81c.8-.78.8-2.07 0-2.86zM5.41 20L4 18.59l7.72-7.72 1.47 1.35L5.41 20z\"/>\n",
              "  </svg>\n",
              "      </button>\n",
              "      \n",
              "  <style>\n",
              "    .colab-df-container {\n",
              "      display:flex;\n",
              "      flex-wrap:wrap;\n",
              "      gap: 12px;\n",
              "    }\n",
              "\n",
              "    .colab-df-convert {\n",
              "      background-color: #E8F0FE;\n",
              "      border: none;\n",
              "      border-radius: 50%;\n",
              "      cursor: pointer;\n",
              "      display: none;\n",
              "      fill: #1967D2;\n",
              "      height: 32px;\n",
              "      padding: 0 0 0 0;\n",
              "      width: 32px;\n",
              "    }\n",
              "\n",
              "    .colab-df-convert:hover {\n",
              "      background-color: #E2EBFA;\n",
              "      box-shadow: 0px 1px 2px rgba(60, 64, 67, 0.3), 0px 1px 3px 1px rgba(60, 64, 67, 0.15);\n",
              "      fill: #174EA6;\n",
              "    }\n",
              "\n",
              "    [theme=dark] .colab-df-convert {\n",
              "      background-color: #3B4455;\n",
              "      fill: #D2E3FC;\n",
              "    }\n",
              "\n",
              "    [theme=dark] .colab-df-convert:hover {\n",
              "      background-color: #434B5C;\n",
              "      box-shadow: 0px 1px 3px 1px rgba(0, 0, 0, 0.15);\n",
              "      filter: drop-shadow(0px 1px 2px rgba(0, 0, 0, 0.3));\n",
              "      fill: #FFFFFF;\n",
              "    }\n",
              "  </style>\n",
              "\n",
              "      <script>\n",
              "        const buttonEl =\n",
              "          document.querySelector('#df-c0a7f2cd-245f-4bd6-9d16-2a7d56cdc3d5 button.colab-df-convert');\n",
              "        buttonEl.style.display =\n",
              "          google.colab.kernel.accessAllowed ? 'block' : 'none';\n",
              "\n",
              "        async function convertToInteractive(key) {\n",
              "          const element = document.querySelector('#df-c0a7f2cd-245f-4bd6-9d16-2a7d56cdc3d5');\n",
              "          const dataTable =\n",
              "            await google.colab.kernel.invokeFunction('convertToInteractive',\n",
              "                                                     [key], {});\n",
              "          if (!dataTable) return;\n",
              "\n",
              "          const docLinkHtml = 'Like what you see? Visit the ' +\n",
              "            '<a target=\"_blank\" href=https://colab.research.google.com/notebooks/data_table.ipynb>data table notebook</a>'\n",
              "            + ' to learn more about interactive tables.';\n",
              "          element.innerHTML = '';\n",
              "          dataTable['output_type'] = 'display_data';\n",
              "          await google.colab.output.renderOutput(dataTable, element);\n",
              "          const docLink = document.createElement('div');\n",
              "          docLink.innerHTML = docLinkHtml;\n",
              "          element.appendChild(docLink);\n",
              "        }\n",
              "      </script>\n",
              "    </div>\n",
              "  </div>\n",
              "  "
            ]
          },
          "metadata": {},
          "execution_count": 56
        }
      ]
    },
    {
      "cell_type": "code",
      "source": [
        "df_temp = df_temp.head(30)\n",
        "df_temp.plot(kind='bar',figsize=(10,6))\n",
        "plt.grid(which='major', linestyle='-', linewidth='0.5', color='green')\n",
        "plt.grid(which='minor', linestyle=':', linewidth='0.5', color='black')\n",
        "plt.show()"
      ],
      "metadata": {
        "colab": {
          "base_uri": "https://localhost:8080/",
          "height": 407
        },
        "id": "9D4vMKoG8PC-",
        "outputId": "bd3e51ba-bae4-47f9-8284-9279bc3f9cd4"
      },
      "execution_count": 57,
      "outputs": [
        {
          "output_type": "display_data",
          "data": {
            "text/plain": [
              "<Figure size 720x432 with 1 Axes>"
            ],
            "image/png": "[encoded data removed]"
          },
          "metadata": {
            "needs_background": "light"
          }
        }
      ]
    },
    {
      "cell_type": "code",
      "source": [
        "# accuracy check (MLP)\n",
        "\n",
        "mse = mean_squared_error(y_test, y_pred)\n",
        "rmse = mse**(0.5)\n",
        "r2 = modelMLP.score(X_train, y_train)\n",
        "print(\"R²: %.2f\" % r2)\n",
        "print(\"MSE: %.2f\" % mse)\n",
        "print(\"RMSE: %.2f\" % rmse) "
      ],
      "metadata": {
        "colab": {
          "base_uri": "https://localhost:8080/"
        },
        "id": "fQQItxUO82IU",
        "outputId": "c92fd263-c285-4da2-b5fb-087bcbddc75b"
      },
      "execution_count": 58,
      "outputs": [
        {
          "output_type": "stream",
          "name": "stdout",
          "text": [
            "R²: -3.66\n",
            "MSE: 12795483461.19\n",
            "RMSE: 113117.12\n"
          ]
        }
      ]
    },
    {
      "cell_type": "code",
      "source": [
        "# plt.plot(model.loss_curve_)\n",
        "# plt.title(\"Loss Curve\", fontsize=14)\n",
        "# plt.xlabel('Iterations')\n",
        "# plt.ylabel('Cost')\n",
        "# plt.show()"
      ],
      "metadata": {
        "id": "_HwmDWy99Gia"
      },
      "execution_count": 59,
      "outputs": []
    }
  ],
  "metadata": {
    "colab": {
      "provenance": []
    },
    "kernelspec": {
      "display_name": "Python 3",
      "name": "python3"
    },
    "language_info": {
      "name": "python"
    }
  },
  "nbformat": 4,
  "nbformat_minor": 0
}